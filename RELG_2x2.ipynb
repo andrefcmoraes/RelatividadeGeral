{
  "nbformat": 4,
  "nbformat_minor": 0,
  "metadata": {
    "colab": {
      "provenance": [],
      "gpuType": "V28",
      "authorship_tag": "ABX9TyO6Efma6DA5GGSSDwoZLN74",
      "include_colab_link": true
    },
    "kernelspec": {
      "name": "python3",
      "display_name": "Python 3"
    },
    "language_info": {
      "name": "python"
    },
    "accelerator": "TPU"
  },
  "cells": [
    {
      "cell_type": "markdown",
      "metadata": {
        "id": "view-in-github",
        "colab_type": "text"
      },
      "source": [
        "<a href=\"https://colab.research.google.com/github/andrefcmoraes/RelatividadeGeral/blob/main/RELG_2x2.ipynb\" target=\"_parent\"><img src=\"https://colab.research.google.com/assets/colab-badge.svg\" alt=\"Open In Colab\"/></a>"
      ]
    },
    {
      "cell_type": "markdown",
      "source": [
        "# Importando bibliotecas"
      ],
      "metadata": {
        "id": "hi59Kggc6Gs0"
      }
    },
    {
      "cell_type": "markdown",
      "source": [
        "Definir símbolos"
      ],
      "metadata": {
        "id": "QAOrqX-76QUJ"
      }
    },
    {
      "source": [
        "import numpy as np\n",
        "import sympy as sy\n",
        "from scipy.integrate import odeint\n",
        "import matplotlib.pyplot as plt\n",
        "# Import the Function class from sympy\n",
        "from sympy import Function\n",
        "\n",
        "tau = sy.symbols('tau')\n",
        "r = sy.symbols('r', cls=Function)\n",
        "t = sy.symbols('t', cls=Function)\n",
        "display(tau,r(tau),t(tau))"
      ],
      "cell_type": "code",
      "metadata": {
        "colab": {
          "base_uri": "https://localhost:8080/",
          "height": 80
        },
        "id": "LCipRiamdtBA",
        "outputId": "dcbd3d56-4f26-40ad-dacc-d71b42483068"
      },
      "execution_count": 1,
      "outputs": [
        {
          "output_type": "display_data",
          "data": {
            "text/plain": [
              "tau"
            ],
            "text/latex": "$\\displaystyle \\tau$"
          },
          "metadata": {}
        },
        {
          "output_type": "display_data",
          "data": {
            "text/plain": [
              "r(tau)"
            ],
            "text/latex": "$\\displaystyle r{\\left(\\tau \\right)}$"
          },
          "metadata": {}
        },
        {
          "output_type": "display_data",
          "data": {
            "text/plain": [
              "t(tau)"
            ],
            "text/latex": "$\\displaystyle t{\\left(\\tau \\right)}$"
          },
          "metadata": {}
        }
      ]
    },
    {
      "cell_type": "code",
      "source": [
        "g = np.matrix([[-r(tau), 0],[0,1]])\n",
        "ug = np.matrix([[-1/r(tau), 0],[0,1]])\n",
        "display(g)\n",
        "display(ug)"
      ],
      "metadata": {
        "colab": {
          "base_uri": "https://localhost:8080/",
          "height": 85
        },
        "id": "LphOGPxoSdLI",
        "outputId": "a79b6ef5-6c86-4d46-d5e9-3fea2467f8e6"
      },
      "execution_count": 2,
      "outputs": [
        {
          "output_type": "display_data",
          "data": {
            "text/plain": [
              "matrix([[-r(tau), 0],\n",
              "        [0, 1]], dtype=object)"
            ]
          },
          "metadata": {}
        },
        {
          "output_type": "display_data",
          "data": {
            "text/plain": [
              "matrix([[-1/r(tau), 0],\n",
              "        [0, 1]], dtype=object)"
            ]
          },
          "metadata": {}
        }
      ]
    },
    {
      "cell_type": "code",
      "source": [
        "L = sy.zeros(2,2)"
      ],
      "metadata": {
        "id": "5zIuj_HC1gMT"
      },
      "execution_count": 3,
      "outputs": []
    },
    {
      "cell_type": "code",
      "source": [
        "def est(num):\n",
        "  if num == 0:\n",
        "    return t(tau)\n",
        "  if num == 1:\n",
        "    return r(tau)"
      ],
      "metadata": {
        "id": "dw0o1GAmSCUl"
      },
      "execution_count": 4,
      "outputs": []
    },
    {
      "cell_type": "code",
      "source": [
        "est(0)"
      ],
      "metadata": {
        "colab": {
          "base_uri": "https://localhost:8080/",
          "height": 38
        },
        "id": "pIC7CAP9UDT-",
        "outputId": "dad52acc-3cba-4139-f504-eb2e550d8482"
      },
      "execution_count": 5,
      "outputs": [
        {
          "output_type": "execute_result",
          "data": {
            "text/plain": [
              "t(tau)"
            ],
            "text/latex": "$\\displaystyle t{\\left(\\tau \\right)}$"
          },
          "metadata": {},
          "execution_count": 5
        }
      ]
    },
    {
      "cell_type": "code",
      "source": [
        "est(1)"
      ],
      "metadata": {
        "colab": {
          "base_uri": "https://localhost:8080/",
          "height": 38
        },
        "id": "j2UaEs7fblbP",
        "outputId": "e1eb774d-b8ec-41c4-fd45-7bdb7344c091"
      },
      "execution_count": 6,
      "outputs": [
        {
          "output_type": "execute_result",
          "data": {
            "text/plain": [
              "r(tau)"
            ],
            "text/latex": "$\\displaystyle r{\\left(\\tau \\right)}$"
          },
          "metadata": {},
          "execution_count": 6
        }
      ]
    },
    {
      "cell_type": "code",
      "source": [
        "def gamma(l,a,b):\n",
        "  number = 1/2*ug[l,l]*(\n",
        "  sy.diff(g[b,l],est(a))\n",
        "  +sy.diff(g[a,l],est(b))\n",
        "  -sy.diff(g[a,b],est(l)))\n",
        "  return number"
      ],
      "metadata": {
        "id": "Sl-7fOrbdG73"
      },
      "execution_count": 7,
      "outputs": []
    },
    {
      "cell_type": "code",
      "source": [
        "L[1,0] = gamma(0,1,0)\n",
        "display(L)"
      ],
      "metadata": {
        "colab": {
          "base_uri": "https://localhost:8080/",
          "height": 60
        },
        "id": "L2fr9dO1WrNo",
        "outputId": "201da38b-3535-46ce-c75b-c063ffdfcb33"
      },
      "execution_count": 8,
      "outputs": [
        {
          "output_type": "display_data",
          "data": {
            "text/plain": [
              "Matrix([\n",
              "[         0, 0],\n",
              "[0.5/r(tau), 0]])"
            ],
            "text/latex": "$\\displaystyle \\left[\\begin{matrix}0 & 0\\\\\\frac{0.5}{r{\\left(\\tau \\right)}} & 0\\end{matrix}\\right]$"
          },
          "metadata": {}
        }
      ]
    },
    {
      "cell_type": "code",
      "source": [
        "L[0,1] = gamma(0,0,1)\n",
        "display(L)"
      ],
      "metadata": {
        "colab": {
          "base_uri": "https://localhost:8080/",
          "height": 68
        },
        "id": "GAUapUEfX_1Z",
        "outputId": "d4ba67f3-568c-4f33-c465-8d9312c45cc4"
      },
      "execution_count": 9,
      "outputs": [
        {
          "output_type": "display_data",
          "data": {
            "text/plain": [
              "Matrix([\n",
              "[         0, 0.5/r(tau)],\n",
              "[0.5/r(tau),          0]])"
            ],
            "text/latex": "$\\displaystyle \\left[\\begin{matrix}0 & \\frac{0.5}{r{\\left(\\tau \\right)}}\\\\\\frac{0.5}{r{\\left(\\tau \\right)}} & 0\\end{matrix}\\right]$"
          },
          "metadata": {}
        }
      ]
    },
    {
      "cell_type": "code",
      "source": [
        "L[0,0] = gamma(0,0,0)\n",
        "display(L)"
      ],
      "metadata": {
        "colab": {
          "base_uri": "https://localhost:8080/",
          "height": 68
        },
        "id": "eKEQ6I5MYDXq",
        "outputId": "0f3e2bc1-8726-4d4c-c8db-ee7aa5e351c7"
      },
      "execution_count": 10,
      "outputs": [
        {
          "output_type": "display_data",
          "data": {
            "text/plain": [
              "Matrix([\n",
              "[         0, 0.5/r(tau)],\n",
              "[0.5/r(tau),          0]])"
            ],
            "text/latex": "$\\displaystyle \\left[\\begin{matrix}0 & \\frac{0.5}{r{\\left(\\tau \\right)}}\\\\\\frac{0.5}{r{\\left(\\tau \\right)}} & 0\\end{matrix}\\right]$"
          },
          "metadata": {}
        }
      ]
    },
    {
      "cell_type": "code",
      "source": [
        "L[1,1] = gamma(0,1,1)\n",
        "display(L)"
      ],
      "metadata": {
        "colab": {
          "base_uri": "https://localhost:8080/",
          "height": 68
        },
        "id": "HV9lxAvwYM4x",
        "outputId": "6a1125e7-9da9-470f-e003-e10cbec910ee"
      },
      "execution_count": 11,
      "outputs": [
        {
          "output_type": "display_data",
          "data": {
            "text/plain": [
              "Matrix([\n",
              "[         0, 0.5/r(tau)],\n",
              "[0.5/r(tau),          0]])"
            ],
            "text/latex": "$\\displaystyle \\left[\\begin{matrix}0 & \\frac{0.5}{r{\\left(\\tau \\right)}}\\\\\\frac{0.5}{r{\\left(\\tau \\right)}} & 0\\end{matrix}\\right]$"
          },
          "metadata": {}
        }
      ]
    },
    {
      "cell_type": "code",
      "source": [
        "gamma(1,0,0)"
      ],
      "metadata": {
        "colab": {
          "base_uri": "https://localhost:8080/",
          "height": 37
        },
        "id": "LyLLFU78cJAD",
        "outputId": "160d2a45-2898-4d8c-d9c7-06b1b72ac532"
      },
      "execution_count": 12,
      "outputs": [
        {
          "output_type": "execute_result",
          "data": {
            "text/plain": [
              "0.500000000000000"
            ],
            "text/latex": "$\\displaystyle 0.5$"
          },
          "metadata": {},
          "execution_count": 12
        }
      ]
    }
  ]
}